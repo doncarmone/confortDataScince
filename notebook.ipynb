{
 "cells": [
  {
   "cell_type": "markdown",
   "metadata": {},
   "source": [
    "## Confort data analysis for Codigo Facilito Bootcamp\n",
    "\n",
    "Este cuaderno contiene datos y hallazgos con respecto a la base datos de una compañia de taxis.\n",
    "\n",
    "\n",
    "### ¿Que gestiona la app de taxis?\n",
    "\n",
    "En un principio se buscaba que fuera un backend que pudiera otorgar comunicacion a tres aplicaciones:\n",
    "- `Un sistema web basado en Vue`\n",
    "    - Este sistema es conocido como Cabina en el cual por medio de roles y privilegios se dan de alta:\n",
    "        - usuarios de cabina y/o administrativos.\n",
    "        - los datos conductores como sus licencias con expiracion y una referencia fotografica de ellos mismos.\n",
    "        - de los vehiculos se toman marca,modelo, placas, numeros economicos, permisos de transito y color.\n",
    "        - Se pueden rastrear y dar de alta nuevos servicios.\n",
    "- `La apliacion movil de usaurios (Android/iOS)`\n",
    "    - Como una propuesta local para otorgar a usuarios mediante sana competencia una alternativa a Uber/Didi/Cabify.\n",
    "- `La aplicacion movil de conductor (Android/iOS)`\n",
    "    - Los conductores de taxis pueden otorgar servicio tradicional mediante paradas en la calle.\n",
    "    - Cabina puede enviarles servicios para atenderlos con las direcciones exactas.\n",
    "    - Dicha aplicacion sirve para monitorear (Casi en tiempo real) la geolocalizacion de la flotilla.\n",
    "    - Dicha aplicacion tambien tiene accesos a Google maps y waze para servicios de GPS."
   ]
  },
  {
   "cell_type": "markdown",
   "metadata": {},
   "source": [
    "### Sobre los datos\n",
    "Se me otorgo un respaldo completo de la base datos de Mysql la cual monte en mi maquina local, con dicha base datos montada he realizado algunas consultas las cuales converti en archivos CSV a manera de quitar la dependencia de una base datos y tener el motor,  asi tambien con el proposito de limpiar los datos de informacion sensible (Tokens de firebase notifiactions, passwords cifradas, correos, direcciones de correo, direcciones fisicas, nombres de personas, placas de vehiculos, numeros economicos,... etc)\n",
    "\n",
    "Para lo cual en la carpeta de `data` de este proyecto estaran contenidos dichos CVS "
   ]
  },
  {
   "cell_type": "code",
   "execution_count": 1,
   "metadata": {},
   "outputs": [
    {
     "name": "stdout",
     "output_type": "stream",
     "text": [
      "Requirement already satisfied: polars in /Users/carmona/anaconda3/lib/python3.11/site-packages (0.18.15)\n"
     ]
    }
   ],
   "source": [
    "%pip install polars\n",
    "import polars as pl\n"
   ]
  }
 ],
 "metadata": {
  "kernelspec": {
   "display_name": "Python 3",
   "language": "python",
   "name": "python3"
  },
  "language_info": {
   "codemirror_mode": {
    "name": "ipython",
    "version": 3
   },
   "file_extension": ".py",
   "mimetype": "text/x-python",
   "name": "python",
   "nbconvert_exporter": "python",
   "pygments_lexer": "ipython3",
   "version": "3.9.6"
  }
 },
 "nbformat": 4,
 "nbformat_minor": 2
}
